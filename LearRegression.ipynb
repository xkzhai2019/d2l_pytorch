{
 "cells": [
  {
   "cell_type": "markdown",
   "id": "98dd7483-9c71-4027-9c80-072d5e6e85e2",
   "metadata": {},
   "source": [
    "#### （1）矢量化加速"
   ]
  },
  {
   "cell_type": "code",
   "execution_count": 2,
   "id": "2817b147-b78d-467d-91c8-64bed8523587",
   "metadata": {},
   "outputs": [],
   "source": [
    "import math\n",
    "import time\n",
    "import numpy as np\n",
    "import torch\n",
    "from d2l import torch as d2l"
   ]
  },
  {
   "cell_type": "code",
   "execution_count": 3,
   "id": "06bdb3b4-f028-4da4-957b-96502efc91c8",
   "metadata": {},
   "outputs": [],
   "source": [
    "# 向量相加演示\n",
    "\n",
    "n = 10000\n",
    "a = torch.ones([n])\n",
    "b = torch.ones([n])"
   ]
  },
  {
   "cell_type": "code",
   "execution_count": 4,
   "id": "ba4c7f07-9e35-4820-b2cf-04be4d2c76b8",
   "metadata": {},
   "outputs": [],
   "source": [
    "class Timer: #@save\n",
    "    \"\"\"记录多次运行时间\"\"\"\n",
    "    def __init__(self):\n",
    "        self.times = []\n",
    "        self.start() # 创建对象时开始计时\n",
    "\n",
    "    def start(self):\n",
    "        \"\"\"启动计时器\"\"\"\n",
    "        self.tik = time.time() # 记录开始时间\n",
    "\n",
    "    def stop(self):\n",
    "        \"\"\"停止计时，并把时间记录到列表中\"\"\"\n",
    "        self.times.append(time.time() - self.tik) # 当前时间 - 开始时间\n",
    "        return self.times[-1]\n",
    "\n",
    "    def avg(self):\n",
    "        \"\"\"记录平均时间\"\"\"\n",
    "        return sum(self.times) / len(self.times)\n",
    "\n",
    "    def sum(self):\n",
    "        \"\"\"记录总时间\"\"\"\n",
    "        return sum(self.times)\n",
    "\n",
    "    def cumsum(self):\n",
    "        \"\"\"返回累积时间\"\"\"\n",
    "        return np.array(self.times).cumsum().tolist()\n",
    "        \n",
    "    "
   ]
  },
  {
   "cell_type": "code",
   "execution_count": 6,
   "id": "c037f695-c01e-452f-be68-538e6f7edb74",
   "metadata": {},
   "outputs": [
    {
     "data": {
      "text/plain": [
       "'0.15981 sec'"
      ]
     },
     "execution_count": 6,
     "metadata": {},
     "output_type": "execute_result"
    }
   ],
   "source": [
    "c = torch.zeros(n)\n",
    "timer = Timer()\n",
    "for i in range(n):\n",
    "    c[i] = a[i] + b[i]\n",
    "f'{timer.stop():.5f} sec'"
   ]
  },
  {
   "cell_type": "code",
   "execution_count": 7,
   "id": "d9286c9f-42bc-41a8-9e8d-1cb99751a401",
   "metadata": {},
   "outputs": [
    {
     "data": {
      "text/plain": [
       "'0.00055 sec'"
      ]
     },
     "execution_count": 7,
     "metadata": {},
     "output_type": "execute_result"
    }
   ],
   "source": [
    "timer.start()\n",
    "d = a + b\n",
    "f'{timer.stop():.5f} sec'"
   ]
  },
  {
   "cell_type": "markdown",
   "id": "2a3f897b-8cd8-4a2c-9048-cc23df8b6bda",
   "metadata": {},
   "source": [
    "#### (2) 正态分布与平方损失"
   ]
  },
  {
   "cell_type": "code",
   "execution_count": null,
   "id": "a424170e-cbfd-44a2-ac21-7c519446dba4",
   "metadata": {},
   "outputs": [],
   "source": []
  }
 ],
 "metadata": {
  "kernelspec": {
   "display_name": "Python 3 (ipykernel)",
   "language": "python",
   "name": "python3"
  },
  "language_info": {
   "codemirror_mode": {
    "name": "ipython",
    "version": 3
   },
   "file_extension": ".py",
   "mimetype": "text/x-python",
   "name": "python",
   "nbconvert_exporter": "python",
   "pygments_lexer": "ipython3",
   "version": "3.9.23"
  }
 },
 "nbformat": 4,
 "nbformat_minor": 5
}
