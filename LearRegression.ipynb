{
 "cells": [
  {
   "cell_type": "markdown",
   "id": "98dd7483-9c71-4027-9c80-072d5e6e85e2",
   "metadata": {},
   "source": [
    "#### （1）矢量化加速"
   ]
  },
  {
   "cell_type": "code",
   "execution_count": null,
   "id": "2817b147-b78d-467d-91c8-64bed8523587",
   "metadata": {},
   "outputs": [],
   "source": []
  }
 ],
 "metadata": {
  "kernelspec": {
   "display_name": "Python 3 (ipykernel)",
   "language": "python",
   "name": "python3"
  },
  "language_info": {
   "codemirror_mode": {
    "name": "ipython",
    "version": 3
   },
   "file_extension": ".py",
   "mimetype": "text/x-python",
   "name": "python",
   "nbconvert_exporter": "python",
   "pygments_lexer": "ipython3",
   "version": "3.9.23"
  }
 },
 "nbformat": 4,
 "nbformat_minor": 5
}
